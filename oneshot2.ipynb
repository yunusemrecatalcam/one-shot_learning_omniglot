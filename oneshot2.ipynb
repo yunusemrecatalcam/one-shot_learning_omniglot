{
  "nbformat": 4,
  "nbformat_minor": 0,
  "metadata": {
    "colab": {
      "name": "oneshot2.ipynb",
      "version": "0.3.2",
      "provenance": [],
      "collapsed_sections": []
    },
    "kernelspec": {
      "name": "python3",
      "display_name": "Python 3"
    }
  },
  "cells": [
    {
      "metadata": {
        "id": "7jLjT90uaZxN",
        "colab_type": "code",
        "colab": {
          "base_uri": "https://localhost:8080/",
          "height": 34
        },
        "outputId": "c74aa57c-7975-46c2-8f86-59172f0fec8f"
      },
      "cell_type": "code",
      "source": [
        "from keras.layers import Input, Conv2D, Lambda, subtract, Dense, Flatten,MaxPooling2D\n",
        "from keras.models import Model, Sequential\n",
        "from keras.regularizers import l2\n",
        "from keras import backend as K\n",
        "from keras.optimizers import SGD,Adam\n",
        "from keras.losses import binary_crossentropy\n",
        "import numpy as np\n",
        "import numpy.random as rng\n",
        "import os\n",
        "import dill as pickle\n",
        "import matplotlib.pyplot as plt\n",
        "from sklearn.utils import shuffle\n",
        "import matplotlib.pyplot as plt"
      ],
      "execution_count": 1,
      "outputs": [
        {
          "output_type": "stream",
          "text": [
            "Using TensorFlow backend.\n"
          ],
          "name": "stderr"
        }
      ]
    },
    {
      "metadata": {
        "id": "qvgT2cVsae-_",
        "colab_type": "code",
        "colab": {}
      },
      "cell_type": "code",
      "source": [
        "def W_init(shape,name=None):\n",
        "    \"\"\"Initialize weights as in paper\"\"\"\n",
        "    values = rng.normal(loc=0,scale=1e-2,size=shape)\n",
        "    return K.variable(values,name=name)\n",
        "#//TODO: figure out how to initialize layer biases in keras.\n",
        "def b_init(shape,name=None):\n",
        "    \"\"\"Initialize bias as in paper\"\"\"\n",
        "    values=rng.normal(loc=0.5,scale=1e-2,size=shape)\n",
        "    return K.variable(values,name=name)\n",
        "\n",
        "input_shape = (105, 105, 1)\n",
        "left_input = Input(input_shape)\n",
        "right_input = Input(input_shape)"
      ],
      "execution_count": 0,
      "outputs": []
    },
    {
      "metadata": {
        "id": "eaX4sDtkaWDI",
        "colab_type": "code",
        "colab": {}
      },
      "cell_type": "code",
      "source": [
        "convnet = Sequential()\n",
        "convnet.add(Conv2D(64,(10,10),activation='relu',input_shape=input_shape,\n",
        "                   kernel_initializer=W_init,kernel_regularizer=l2(2e-4)))\n",
        "convnet.add(MaxPooling2D())\n",
        "convnet.add(Conv2D(128,(7,7),activation='relu',\n",
        "                   kernel_regularizer=l2(2e-4),kernel_initializer=W_init,bias_initializer=b_init))\n",
        "convnet.add(MaxPooling2D())\n",
        "convnet.add(Conv2D(128,(4,4),activation='relu',kernel_initializer=W_init,kernel_regularizer=l2(2e-4),bias_initializer=b_init))\n",
        "convnet.add(MaxPooling2D())\n",
        "convnet.add(Conv2D(256,(4,4),activation='relu',kernel_initializer=W_init,kernel_regularizer=l2(2e-4),bias_initializer=b_init))\n",
        "convnet.add(Flatten())\n",
        "convnet.add(Dense(4096,activation=\"sigmoid\",kernel_regularizer=l2(1e-3),kernel_initializer=W_init,bias_initializer=b_init))\n",
        "#encode each of the two inputs into a vector with the convnet"
      ],
      "execution_count": 0,
      "outputs": []
    },
    {
      "metadata": {
        "id": "oI7px-r_alvw",
        "colab_type": "code",
        "colab": {}
      },
      "cell_type": "code",
      "source": [
        "encoded_l = convnet(left_input)\n",
        "encoded_r = convnet(right_input)"
      ],
      "execution_count": 0,
      "outputs": []
    },
    {
      "metadata": {
        "id": "hkoTjE8Fa0Zd",
        "colab_type": "code",
        "outputId": "1d69cb31-084c-40de-b957-aa28e5b554ad",
        "colab": {
          "base_uri": "https://localhost:8080/",
          "height": 86
        }
      },
      "cell_type": "code",
      "source": [
        "!git clone https://github.com/brendenlake/omniglot.git\n",
        "!unzip -q omniglot/python/images_background.zip "
      ],
      "execution_count": 5,
      "outputs": [
        {
          "output_type": "stream",
          "text": [
            "Cloning into 'omniglot'...\n",
            "remote: Enumerating objects: 67, done.\u001b[K\n",
            "remote: Total 67 (delta 0), reused 0 (delta 0), pack-reused 67\u001b[K\n",
            "Unpacking objects: 100% (67/67), done.\n"
          ],
          "name": "stdout"
        }
      ]
    },
    {
      "metadata": {
        "id": "-NGBr3qXbM9X",
        "colab_type": "code",
        "outputId": "1528a0c2-9bc4-478b-b98e-98f42766bdad",
        "colab": {
          "base_uri": "https://localhost:8080/",
          "height": 52
        }
      },
      "cell_type": "code",
      "source": [
        "from PIL import Image\n",
        "\n",
        "train_x = np.zeros((19280,105,105))\n",
        "print(train_x.shape)\n",
        "train_y = np.zeros((19280))\n",
        "\n",
        "print(train_x.shape)\n",
        "\n",
        "i=0\n",
        "arc = os.path.join(\"images_background\")\n",
        "for alphabet in os.listdir(arc):\n",
        "    for characters in os.listdir(os.path.join(arc,alphabet)):\n",
        "        for sub in os.listdir(os.path.join(arc,alphabet,characters)):\n",
        "            path = os.path.join(arc,alphabet,characters,sub)\n",
        "            img = Image.open(path)\n",
        "            train_x[i,:,:] = np.asarray(img.getdata()).reshape(img.size)\n",
        "            train_y[i] = int(path[path.find('.png')-7:path.find('.png')-3])\n",
        "            #print(train_y[i])\n",
        "            i += 1  "
      ],
      "execution_count": 6,
      "outputs": [
        {
          "output_type": "stream",
          "text": [
            "(19280, 105, 105)\n",
            "(19280, 105, 105)\n"
          ],
          "name": "stdout"
        }
      ]
    },
    {
      "metadata": {
        "id": "GeAEE4Qbb_kJ",
        "colab_type": "code",
        "outputId": "2a42d129-c0ec-480d-86e1-d5d81e487f9a",
        "colab": {
          "base_uri": "https://localhost:8080/",
          "height": 52
        }
      },
      "cell_type": "code",
      "source": [
        "both = subtract([encoded_l,encoded_r])\n",
        "pred = Dense(1,activation='sigmoid',bias_initializer=b_init)(both)\n",
        "\n",
        "Siamese = Model(input=[left_input,right_input],output=pred)\n",
        "Siamese.compile(loss='binary_crossentropy',optimizer=Adam(0.006))"
      ],
      "execution_count": 7,
      "outputs": [
        {
          "output_type": "stream",
          "text": [
            "/usr/local/lib/python3.6/dist-packages/ipykernel_launcher.py:4: UserWarning: Update your `Model` call to the Keras 2 API: `Model(inputs=[<tf.Tenso..., outputs=Tensor(\"de...)`\n",
            "  after removing the cwd from sys.path.\n"
          ],
          "name": "stderr"
        }
      ]
    },
    {
      "metadata": {
        "id": "aqLRqB5ucfAU",
        "colab_type": "code",
        "outputId": "c798c02b-502c-4da6-ce44-fd5ce89a27cc",
        "colab": {
          "base_uri": "https://localhost:8080/",
          "height": 69
        }
      },
      "cell_type": "code",
      "source": [
        "left, right = 4,500\n",
        "out1 =Siamese.predict([train_x[left,:,:].reshape((1,105,105,1)),train_x[right,:,:].reshape((1,105,105,1))])\n",
        "print(type(out1))\n",
        "print(np.sum(out1))\n",
        "print(train_y[left],train_y[right])"
      ],
      "execution_count": 8,
      "outputs": [
        {
          "output_type": "stream",
          "text": [
            "<class 'numpy.ndarray'>\n",
            "0.6238228\n",
            "125.0 573.0\n"
          ],
          "name": "stdout"
        }
      ]
    },
    {
      "metadata": {
        "id": "MwwWdUToZ7Re",
        "colab_type": "code",
        "colab": {}
      },
      "cell_type": "code",
      "source": [
        " def generate_trainset(train_x,train_y, size):\n",
        "  \n",
        "  pairs = [np.zeros((size,105,105)) for i in range(2)]\n",
        "  targets = np.zeros((size))\n",
        "  \n",
        "  print(\"pairs\",np.asarray(pairs).shape,\"targets\",np.asarray(targets).shape)\n",
        "  train_y_structured = train_y.reshape(-1,20)\n",
        "  train_x_structured = train_x.reshape(-1,20,105,105)\n",
        "  #print(\"structured x,\",train_x_structured.shape)\n",
        "  #print(\"structured y,\",train_y_structured.shape)\n",
        "  randed = rng.choice(train_y_structured.shape[0],size,replace=False)\n",
        "  #print(\"trainx\",train_x_structured[randed].shape,train_x_structured.shape)\n",
        "  \n",
        "  left = train_x_structured[0,0,:,:]\n",
        "  right= train_x_structured[0,0,:,:]\n",
        "  for i in range(0,size):\n",
        "    if i < size//2:                        #getting a same char example\n",
        "      class_of_char = rng.randint(963)\n",
        "      #print(\"class same:\",class_of_char)\n",
        "      left =train_x_structured[class_of_char,rng.randint(19),:,:]\n",
        "      right =train_x_structured[class_of_char,rng.randint(19),:,:]\n",
        "      pairs[0][i,:,:] = left.reshape(105,105)\n",
        "      pairs[1][i,:,:] = right.reshape(105,105)\n",
        "      targets[i] = 1\n",
        "      \n",
        "    else:                                 #getting a different char example \n",
        "      indexes = rng.choice(963,size=2,replace=False)\n",
        "      #print(\"two of em\",indexes.shape,indexes)\n",
        "      left = train_x_structured[indexes[0],rng.randint(19),:,:]\n",
        "      right= train_x_structured[indexes[1],rng.randint(19),:,:]\n",
        "      pairs[0][i,:,:] = left.reshape(105,105)\n",
        "      pairs[1][i,:,:] = right.reshape(105,105)\n",
        "      targets[i] = 0\n",
        "\n",
        "  return [np.asarray(pairs),targets]"
      ],
      "execution_count": 0,
      "outputs": []
    },
    {
      "metadata": {
        "id": "ovOoaW3r5MtR",
        "colab_type": "code",
        "outputId": "620fe1aa-3485-48da-b5df-8629026f2b06",
        "colab": {
          "base_uri": "https://localhost:8080/",
          "height": 419
        }
      },
      "cell_type": "code",
      "source": [
        "size = 200\n",
        "train_x_generated = np.zeros((size,105,105))\n",
        "train_y_generated = np.zeros((size))\n",
        "\n",
        "'''print(train_x.shape)\n",
        "np.random.choice(train_y[0:200],100,replace=False)\n",
        "\n",
        "\n",
        "print(\"structed\",train_y_structured.shape)\n",
        "print(\"train_y\",train_y.shape)\n",
        "print(train_y[0:20])\n",
        "print(train_y_structured[0,:])'''\n",
        "print(train_x.shape,train_y.shape)\n",
        "[mypairs,mytargets] = generate_trainset(train_x,train_y,200)\n",
        "print(mypairs.shape)\n",
        "myidx = 30\n",
        "plt.imshow(mypairs[:,myidx,:,:].reshape(2*105,105))\n",
        "print(mytargets[myidx])"
      ],
      "execution_count": 33,
      "outputs": [
        {
          "output_type": "stream",
          "text": [
            "(19280, 105, 105) (19280,)\n",
            "pairs (2, 200, 105, 105) targets (200,)\n",
            "(2, 200, 105, 105)\n",
            "1.0\n"
          ],
          "name": "stdout"
        },
        {
          "output_type": "display_data",
          "data": {
            "image/png": "[encoded data removed]",
            "text/plain": [
              "<matplotlib.figure.Figure at 0x7faeaa51f048>"
            ]
          },
          "metadata": {
            "tags": []
          }
        }
      ]
    }
  ]
}