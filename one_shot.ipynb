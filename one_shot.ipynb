{
  "nbformat": 4,
  "nbformat_minor": 0,
  "metadata": {
    "colab": {
      "name": "one_shot.ipynb",
      "version": "0.3.2",
      "provenance": [],
      "collapsed_sections": []
    },
    "kernelspec": {
      "name": "python3",
      "display_name": "Python 3"
    },
    "accelerator": "GPU"
  },
  "cells": [
    {
      "metadata": {
        "id": "LxHY97-d3x8O",
        "colab_type": "code",
        "colab": {}
      },
      "cell_type": "code",
      "source": [
        "!git clone https://github.com/brendenlake/omniglot.git\n",
        "!unzip omniglot/python/images_background.zip "
      ],
      "execution_count": 0,
      "outputs": []
    },
    {
      "metadata": {
        "id": "oTbbjxyx4Rje",
        "colab_type": "code",
        "colab": {
          "base_uri": "https://localhost:8080/",
          "height": 52
        },
        "outputId": "e3bf21a7-6c9f-4a55-98dd-2912b68f40a4"
      },
      "cell_type": "code",
      "source": [
        "import tensorflow as tf\n",
        "import pandas as pd\n",
        "import numpy as np\n",
        "import cv2\n",
        "import os.path\n",
        "\n",
        "from PIL import Image\n",
        "from tensorflow.python import keras\n",
        "from keras.callbacks import ModelCheckpoint\n",
        "import matplotlib.pyplot as plt\n",
        "\n",
        "\n",
        "train_x = np.zeros((19280,105,105))\n",
        "print(train_x.shape)\n",
        "train_y = np.zeros((19280))\n",
        "\n",
        "print(train_x.shape)\n",
        "\n",
        "i=0\n",
        "arc = os.path.join(\"images_background\")\n",
        "for alphabet in os.listdir(arc):\n",
        "    for characters in os.listdir(os.path.join(arc,alphabet)):\n",
        "        for sub in os.listdir(os.path.join(arc,alphabet,characters)):\n",
        "            path = os.path.join(arc,alphabet,characters,sub)\n",
        "            img = Image.open(path)\n",
        "            train_x[i,:,:] = np.asarray(img.getdata()).reshape(img.size)\n",
        "            train_y[i] = int(path[path.find('.png')-7:path.find('.png')-3])\n",
        "            #print(train_y[i])\n",
        "            i += 1  \n",
        "            \n"
      ],
      "execution_count": 5,
      "outputs": [
        {
          "output_type": "stream",
          "text": [
            "(19280, 105, 105)\n",
            "(19280, 105, 105)\n"
          ],
          "name": "stdout"
        }
      ]
    },
    {
      "metadata": {
        "id": "-yXiIrAnkbkP",
        "colab_type": "code",
        "colab": {
          "base_uri": "https://localhost:8080/",
          "height": 52
        },
        "outputId": "3a872de4-8bca-403a-fbd0-2770d734f647"
      },
      "cell_type": "code",
      "source": [
        "train_x = train_x.reshape(train_x.shape[0],train_x.shape[1],train_x.shape[2],1)\n",
        "train_y = tf.keras.utils.to_categorical(train_y)         \n",
        "print(train_y.shape)\n",
        "print(train_x.shape)"
      ],
      "execution_count": 6,
      "outputs": [
        {
          "output_type": "stream",
          "text": [
            "(19280, 965)\n",
            "(19280, 105, 105, 1)\n"
          ],
          "name": "stdout"
        }
      ]
    },
    {
      "metadata": {
        "id": "5mPRXEoG6DK1",
        "colab_type": "code",
        "colab": {
          "base_uri": "https://localhost:8080/",
          "height": 86
        },
        "outputId": "70382177-2354-4dcd-d4c0-5b7b18ef218c"
      },
      "cell_type": "code",
      "source": [
        "plt.figure(100)\n",
        "class_num = 679\n",
        "#plt.imshow(train_x[np.where(train_y==class_num)][0:10].reshape(105*10,105))\n",
        "\n",
        "plt.figure(101)\n",
        "#plt.imshow(train_x[np.where(train_y==class_num)][10:20].reshape(10*105,105))\n",
        "print(path)\n",
        "print(int(path[path.find('.png')-7:path.find('.png')-3]))\n"
      ],
      "execution_count": 7,
      "outputs": [
        {
          "output_type": "stream",
          "text": [
            "images_background/Malay_(Jawi_-_Arabic)/character22/0577_02.png\n",
            "577\n"
          ],
          "name": "stdout"
        },
        {
          "output_type": "display_data",
          "data": {
            "text/plain": [
              "<matplotlib.figure.Figure at 0x7f7340f53208>"
            ]
          },
          "metadata": {
            "tags": []
          }
        },
        {
          "output_type": "display_data",
          "data": {
            "text/plain": [
              "<matplotlib.figure.Figure at 0x7f7340f53828>"
            ]
          },
          "metadata": {
            "tags": []
          }
        }
      ]
    },
    {
      "metadata": {
        "id": "2b5aTNsN-TBf",
        "colab_type": "code",
        "colab": {
          "base_uri": "https://localhost:8080/",
          "height": 451
        },
        "outputId": "28c99768-6639-4590-bcd6-85775e7196bf"
      },
      "cell_type": "code",
      "source": [
        "convnet = tf.keras.Sequential()\n",
        "model = tf.keras.Sequential()\n",
        "\n",
        "#convolution layer 1\n",
        "convnet.add(tf.keras.layers.Conv2D(filters=64,kernel_size=2,padding='same',\n",
        "                                 activation='relu',input_shape=(105,105,1)))\n",
        "convnet.add(tf.keras.layers.MaxPooling2D(pool_size=(2)))\n",
        "convnet.add(tf.keras.layers.Dropout(0.3))\n",
        "\n",
        "#convolution layer 2\n",
        "convnet.add(tf.keras.layers.Conv2D(filters=32,kernel_size=2,padding='same',\n",
        "                                 activation='relu',))\n",
        "convnet.add(tf.keras.layers.MaxPooling2D(pool_size=(2)))\n",
        "convnet.add(tf.keras.layers.Dropout(0.2))\n",
        "\n",
        "convnet.trainable = False\n",
        "#dense\n",
        "model.add(convnet)\n",
        "\n",
        "model.add(tf.keras.layers.Flatten())\n",
        "model.add(tf.keras.layers.Dense(256,activation='relu'))\n",
        "model.add(tf.keras.layers.Dropout(0.2))\n",
        "\n",
        "model.add(tf.keras.layers.Dense(256,activation='sigmoid'))\n",
        "model.add(tf.keras.layers.Dropout(0.2))\n",
        "\n",
        "model.add(tf.keras.layers.Dense(256,activation='softmax'))\n",
        "model.add(tf.keras.layers.Dropout(0.2))\n",
        "\n",
        "model.add(tf.keras.layers.Dense(train_y.shape[1],activation='sigmoid'))\n",
        "\n",
        "model.summary()\n",
        "\n",
        "model.compile(loss='categorical_crossentropy',\n",
        "              optimizer ='adam')\n",
        "\n",
        "#conv = model.predict(train_x[0].reshape(1,105,105,1))#model.predict(train_x[0].reshape(1,105,105,1))\n"
      ],
      "execution_count": 32,
      "outputs": [
        {
          "output_type": "stream",
          "text": [
            "_________________________________________________________________\n",
            "Layer (type)                 Output Shape              Param #   \n",
            "=================================================================\n",
            "sequential_10 (Sequential)   (None, 26, 26, 32)        8544      \n",
            "_________________________________________________________________\n",
            "flatten_5 (Flatten)          (None, 21632)             0         \n",
            "_________________________________________________________________\n",
            "dense_19 (Dense)             (None, 256)               5538048   \n",
            "_________________________________________________________________\n",
            "dropout_27 (Dropout)         (None, 256)               0         \n",
            "_________________________________________________________________\n",
            "dense_20 (Dense)             (None, 256)               65792     \n",
            "_________________________________________________________________\n",
            "dropout_28 (Dropout)         (None, 256)               0         \n",
            "_________________________________________________________________\n",
            "dense_21 (Dense)             (None, 256)               65792     \n",
            "_________________________________________________________________\n",
            "dropout_29 (Dropout)         (None, 256)               0         \n",
            "_________________________________________________________________\n",
            "dense_22 (Dense)             (None, 965)               248005    \n",
            "=================================================================\n",
            "Total params: 5,926,181\n",
            "Trainable params: 5,917,637\n",
            "Non-trainable params: 8,544\n",
            "_________________________________________________________________\n"
          ],
          "name": "stdout"
        }
      ]
    },
    {
      "metadata": {
        "id": "WWFi1vX4oVJb",
        "colab_type": "code",
        "colab": {
          "base_uri": "https://localhost:8080/",
          "height": 52
        },
        "outputId": "312d2837-bafb-411d-e5c7-3b0dbb3fafd3"
      },
      "cell_type": "code",
      "source": [
        "from google.colab import files\n",
        "conv_saved = files.upload()\n",
        "!ls"
      ],
      "execution_count": 17,
      "outputs": [
        {
          "output_type": "stream",
          "text": [
            "conv.weights.last (1).hdf5  images_background  sample_data\n",
            "conv.weights.last.hdf5\t    omniglot\n"
          ],
          "name": "stdout"
        }
      ]
    },
    {
      "metadata": {
        "id": "H4FQnZZU9Ip-",
        "colab_type": "code",
        "colab": {}
      },
      "cell_type": "code",
      "source": [
        "convnet.load_weights(\"conv.weights.last.hdf5\")\n"
      ],
      "execution_count": 0,
      "outputs": []
    },
    {
      "metadata": {
        "id": "4v_dkz-zi93t",
        "colab_type": "code",
        "colab": {
          "base_uri": "https://localhost:8080/",
          "height": 86
        },
        "outputId": "d88618ff-2826-40d0-8d4c-9a4bddc8a7ee"
      },
      "cell_type": "code",
      "source": [
        "model.fit(train_x,train_y,validation_split=0.2,batch_size=128,epochs=1)"
      ],
      "execution_count": 28,
      "outputs": [
        {
          "output_type": "stream",
          "text": [
            "Train on 15424 samples, validate on 3856 samples\n",
            "Epoch 1/1\n",
            "15424/15424 [==============================] - 20s 1ms/step - loss: 6.8605 - val_loss: 7.0065\n"
          ],
          "name": "stdout"
        },
        {
          "output_type": "execute_result",
          "data": {
            "text/plain": [
              "<tensorflow.python.keras.callbacks.History at 0x7f7338b0eb00>"
            ]
          },
          "metadata": {
            "tags": []
          },
          "execution_count": 28
        }
      ]
    },
    {
      "metadata": {
        "id": "X7iFgCGxm5yk",
        "colab_type": "code",
        "colab": {
          "base_uri": "https://localhost:8080/",
          "height": 366
        },
        "outputId": "80aef30a-1050-4eb8-ff1b-f7d290ed0e52"
      },
      "cell_type": "code",
      "source": [
        "plt.imshow(train_x[10900,:,:,:].reshape(train_x.shape[1],train_x.shape[2]))"
      ],
      "execution_count": 35,
      "outputs": [
        {
          "output_type": "execute_result",
          "data": {
            "text/plain": [
              "<matplotlib.image.AxesImage at 0x7f733803d7f0>"
            ]
          },
          "metadata": {
            "tags": []
          },
          "execution_count": 35
        },
        {
          "output_type": "display_data",
          "data": {
            "image/png": "[encoded data removed]",
            "text/plain": [
              "<matplotlib.figure.Figure at 0x7f7336eaa438>"
            ]
          },
          "metadata": {
            "tags": []
          }
        }
      ]
    },
    {
      "metadata": {
        "id": "8qimcZYttjNJ",
        "colab_type": "code",
        "colab": {
          "base_uri": "https://localhost:8080/",
          "height": 382
        },
        "outputId": "6e28c9ff-1e84-4ac9-bca7-0c4f79f27d36"
      },
      "cell_type": "code",
      "source": [
        "a =convnet.predict(train_x[10901,:,:,:].reshape(1,105,105,1))\n",
        "print(s.shape)\n",
        "a = a[:,:,:,:].sum(keepdims= True,axis = 3).reshape(26,26)\n",
        "plt.imshow(a)"
      ],
      "execution_count": 50,
      "outputs": [
        {
          "output_type": "stream",
          "text": [
            "(26, 26)\n"
          ],
          "name": "stdout"
        },
        {
          "output_type": "execute_result",
          "data": {
            "text/plain": [
              "<matplotlib.image.AxesImage at 0x7f7334b06978>"
            ]
          },
          "metadata": {
            "tags": []
          },
          "execution_count": 50
        },
        {
          "output_type": "display_data",
          "data": {
            "image/png": "[encoded data removed]",
            "text/plain": [
              "<matplotlib.figure.Figure at 0x7f7334b9da90>"
            ]
          },
          "metadata": {
            "tags": []
          }
        }
      ]
    },
    {
      "metadata": {
        "id": "5zZ57L2yufwy",
        "colab_type": "code",
        "colab": {
          "base_uri": "https://localhost:8080/",
          "height": 382
        },
        "outputId": "35527e16-da24-49f1-dffc-ed6c996ea541"
      },
      "cell_type": "code",
      "source": [
        "s =convnet.predict(train_x[12900,:,:,:].reshape(1,105,105,1))\n",
        "print(s.shape)\n",
        "s = s[:,:,:,:].sum(keepdims= True,axis = 3).reshape(26,26)\n",
        "plt.imshow(s)"
      ],
      "execution_count": 48,
      "outputs": [
        {
          "output_type": "stream",
          "text": [
            "(1, 26, 26, 32)\n"
          ],
          "name": "stdout"
        },
        {
          "output_type": "execute_result",
          "data": {
            "text/plain": [
              "<matplotlib.image.AxesImage at 0x7f7334b9d518>"
            ]
          },
          "metadata": {
            "tags": []
          },
          "execution_count": 48
        },
        {
          "output_type": "display_data",
          "data": {
            "image/png": "[encoded data removed]",
            "text/plain": [
              "<matplotlib.figure.Figure at 0x7f7334cbd630>"
            ]
          },
          "metadata": {
            "tags": []
          }
        }
      ]
    },
    {
      "metadata": {
        "id": "5WhP8qQruqz1",
        "colab_type": "code",
        "colab": {
          "base_uri": "https://localhost:8080/",
          "height": 364
        },
        "outputId": "969d09c8-d3dc-4d82-87a5-7a44f61ac37d"
      },
      "cell_type": "code",
      "source": [
        "plt.imshow(a-s)"
      ],
      "execution_count": 52,
      "outputs": [
        {
          "output_type": "execute_result",
          "data": {
            "text/plain": [
              "<matplotlib.image.AxesImage at 0x7f7334abd898>"
            ]
          },
          "metadata": {
            "tags": []
          },
          "execution_count": 52
        },
        {
          "output_type": "display_data",
          "data": {
            "image/png": "[encoded data removed]",
            "text/plain": [
              "<matplotlib.figure.Figure at 0x7f7334ac9668>"
            ]
          },
          "metadata": {
            "tags": []
          }
        }
      ]
    }
  ]
}