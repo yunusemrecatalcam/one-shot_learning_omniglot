{
  "nbformat": 4,
  "nbformat_minor": 0,
  "metadata": {
    "colab": {
      "name": "one_shot.ipynb",
      "version": "0.3.2",
      "provenance": [],
      "collapsed_sections": []
    },
    "kernelspec": {
      "name": "python3",
      "display_name": "Python 3"
    }
  },
  "cells": [
    {
      "metadata": {
        "id": "LxHY97-d3x8O",
        "colab_type": "code",
        "colab": {
          "base_uri": "https://localhost:8080/",
          "height": 86
        },
        "outputId": "1451e237-41aa-44aa-862a-8a8236af30f2"
      },
      "cell_type": "code",
      "source": [
        "!git clone https://github.com/brendenlake/omniglot.git\n",
        "!unzip omniglot/python/images_background.zip "
      ],
      "execution_count": 1,
      "outputs": [
        {
          "output_type": "stream",
          "text": [
            "Cloning into 'omniglot'...\n",
            "remote: Counting objects: 67, done.\u001b[K\n",
            "remote: Total 67 (delta 0), reused 0 (delta 0), pack-reused 67\u001b[K\n",
            "Unpacking objects: 100% (67/67), done.\n"
          ],
          "name": "stdout"
        }
      ]
    },
    {
      "metadata": {
        "id": "oTbbjxyx4Rje",
        "colab_type": "code",
        "colab": {
          "base_uri": "https://localhost:8080/",
          "height": 52
        },
        "outputId": "4b85ab44-cc12-4e8b-9138-0d2895d5d946"
      },
      "cell_type": "code",
      "source": [
        "import tensorflow as tf\n",
        "import pandas as pd\n",
        "import numpy as np\n",
        "import cv2\n",
        "import os.path\n",
        "\n",
        "from PIL import Image\n",
        "from tensorflow.python import keras\n",
        "from keras.callbacks import ModelCheckpoint\n",
        "import matplotlib.pyplot as plt\n",
        "\n",
        "\n",
        "train_x = np.zeros((19280,105,105))\n",
        "print(train_x.shape)\n",
        "train_y = np.zeros((19280))\n",
        "\n",
        "print(train_x.shape)\n",
        "\n",
        "i=0\n",
        "arc = os.path.join(\"images_background\")\n",
        "for alphabet in os.listdir(arc):\n",
        "    for characters in os.listdir(os.path.join(arc,alphabet)):\n",
        "        for sub in os.listdir(os.path.join(arc,alphabet,characters)):\n",
        "            path = os.path.join(arc,alphabet,characters,sub)\n",
        "            img = Image.open(path)\n",
        "            train_x[i,:,:] = np.asarray(img.getdata()).reshape(img.size)\n",
        "            train_y[i] = int(path[path.find('.png')-7:path.find('.png')-3])\n",
        "            #print(train_y[i])\n",
        "            i += 1     "
      ],
      "execution_count": 12,
      "outputs": [
        {
          "output_type": "stream",
          "text": [
            "(19280, 105, 105)\n",
            "(19280, 105, 105)\n"
          ],
          "name": "stdout"
        }
      ]
    },
    {
      "metadata": {
        "id": "5mPRXEoG6DK1",
        "colab_type": "code",
        "colab": {
          "base_uri": "https://localhost:8080/",
          "height": 720
        },
        "outputId": "6241b065-63d0-44ae-8d33-acbe32cbe8f1"
      },
      "cell_type": "code",
      "source": [
        "plt.figure(100)\n",
        "class_num = 679\n",
        "plt.imshow(train_x[np.where(train_y==class_num)][0:10].reshape(105*10,105))\n",
        "\n",
        "plt.figure(101)\n",
        "plt.imshow(train_x[np.where(train_y==class_num)][10:20].reshape(10*105,105))\n",
        "print(path)\n",
        "print(int(path[path.find('.png')-7:path.find('.png')-3]))\n"
      ],
      "execution_count": 42,
      "outputs": [
        {
          "output_type": "stream",
          "text": [
            "images_background/Arcadian/character12/0012_14.png\n",
            "12\n"
          ],
          "name": "stdout"
        },
        {
          "output_type": "display_data",
          "data": {
            "image/png": "[encoded data removed]",
            "text/plain": [
              "<matplotlib.figure.Figure at 0x7fb9a1a16ac8>"
            ]
          },
          "metadata": {
            "tags": []
          }
        },
        {
          "output_type": "display_data",
          "data": {
            "image/png": "[encoded data removed]",
            "text/plain": [
              "<matplotlib.figure.Figure at 0x7fb9a1a16a58>"
            ]
          },
          "metadata": {
            "tags": []
          }
        }
      ]
    },
    {
      "metadata": {
        "id": "2b5aTNsN-TBf",
        "colab_type": "code",
        "colab": {
          "base_uri": "https://localhost:8080/",
          "height": 243
        },
        "outputId": "7c24c403-721c-4262-9d4a-2db78579fc4b"
      },
      "cell_type": "code",
      "source": [
        "model = tf.keras.Sequential()\n",
        "\n",
        "#convolution layer 1\n",
        "model.add(tf.keras.layers.Conv2D(filters=64,kernel_size=2,padding='same',\n",
        "                                 activation='relu',input_shape=(105,105,1)))\n",
        "model.add(tf.keras.layers.MaxPooling2D(pool_size=(2)))\n",
        "model.add(tf.keras.layers.Dropout(0.3))\n",
        "\n",
        "#convolution layer 2\n",
        "model.add(tf.keras.layers.Conv2D(filters=32,kernel_size=2,padding='same',\n",
        "                                 activation='relu',))\n",
        "model.add(tf.keras.layers.MaxPooling2D(pool_size=(2)))\n",
        "model.add(tf.keras.layers.Dropout(0.2))\n",
        "\n",
        "#dense\n",
        "model.add(tf.keras.layers.Flatten())\n",
        "model.add(tf.keras.layers.Dense(256,activation='relu'))\n",
        "model.add(tf.keras.layers.Dropout(0.2))\n",
        "\n",
        "model.add(tf.keras.layers.Dense(256,activation='sigmoid'))\n",
        "model.add(tf.keras.layers.Dropout(0.2))\n",
        "\n",
        "model.add(tf.keras.layers.Dense(10,activation='softmax'))\n",
        "\n",
        "\n",
        "model.summary()\n",
        "\n",
        "model.compile(loss='categorical_crossentropy',\n",
        "              optimizer ='adam')\n",
        "\n",
        "conv = model.predict(train_x[0].reshape(1,105,105,1))\n"
      ],
      "execution_count": 56,
      "outputs": [
        {
          "output_type": "stream",
          "text": [
            "_________________________________________________________________\n",
            "Layer (type)                 Output Shape              Param #   \n",
            "=================================================================\n",
            "conv2d_13 (Conv2D)           (None, 105, 105, 64)      320       \n",
            "_________________________________________________________________\n",
            "max_pooling2d_13 (MaxPooling (None, 52, 52, 64)        0         \n",
            "_________________________________________________________________\n",
            "dropout_13 (Dropout)         (None, 52, 52, 64)        0         \n",
            "=================================================================\n",
            "Total params: 320\n",
            "Trainable params: 320\n",
            "Non-trainable params: 0\n",
            "_________________________________________________________________\n"
          ],
          "name": "stdout"
        }
      ]
    },
    {
      "metadata": {
        "id": "G1IKKbjyHFmz",
        "colab_type": "code",
        "colab": {
          "base_uri": "https://localhost:8080/",
          "height": 383
        },
        "outputId": "7b7e755d-6cd5-49dd-c8e1-4c8abb8ab122"
      },
      "cell_type": "code",
      "source": [
        "print(conv.shape)\n",
        "plt.imshow(conv.sum(axis=3).reshape(conv.shape[1],conv.shape[2]))"
      ],
      "execution_count": 66,
      "outputs": [
        {
          "output_type": "stream",
          "text": [
            "(1, 52, 52, 64)\n"
          ],
          "name": "stdout"
        },
        {
          "output_type": "execute_result",
          "data": {
            "text/plain": [
              "<matplotlib.image.AxesImage at 0x7fb99e336550>"
            ]
          },
          "metadata": {
            "tags": []
          },
          "execution_count": 66
        },
        {
          "output_type": "display_data",
          "data": {
            "image/png": "[encoded data removed]",
            "text/plain": [
              "<matplotlib.figure.Figure at 0x7fb99e3452e8>"
            ]
          },
          "metadata": {
            "tags": []
          }
        }
      ]
    },
    {
      "metadata": {
        "id": "dGXkUl7wImW9",
        "colab_type": "code",
        "colab": {
          "base_uri": "https://localhost:8080/",
          "height": 366
        },
        "outputId": "a43a9566-3c43-4f16-f584-9c2c00c41d85"
      },
      "cell_type": "code",
      "source": [
        "plt.imshow(train_x[0])"
      ],
      "execution_count": 68,
      "outputs": [
        {
          "output_type": "execute_result",
          "data": {
            "text/plain": [
              "<matplotlib.image.AxesImage at 0x7fb99e267f28>"
            ]
          },
          "metadata": {
            "tags": []
          },
          "execution_count": 68
        },
        {
          "output_type": "display_data",
          "data": {
            "image/png": "[encoded data removed]",
            "text/plain": [
              "<matplotlib.figure.Figure at 0x7fb99e2ef208>"
            ]
          },
          "metadata": {
            "tags": []
          }
        }
      ]
    }
  ]
}